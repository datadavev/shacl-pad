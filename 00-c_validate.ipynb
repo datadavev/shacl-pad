{
 "cells": [
  {
   "cell_type": "markdown",
   "metadata": {},
   "source": [
    "# Validate data graph with SHACL graph\n",
    "\n",
    "Use rdflib to load and parse the shape and data sources, then use pySHACL to apply the SHACL shapes graph to the data graph."
   ]
  },
  {
   "cell_type": "code",
   "execution_count": 44,
   "metadata": {},
   "outputs": [
    {
     "data": {
      "text/plain": [
       "<Graph identifier=https://science-on-schema.org/examples/shacl/ (<class 'rdflib.graph.Graph'>)>"
      ]
     },
     "execution_count": 44,
     "metadata": {},
     "output_type": "execute_result"
    }
   ],
   "source": [
    "import rdflib\n",
    "import pyshacl\n",
    "\n",
    "# Load the SHACL graph\n",
    "shacl_source = \"\"\"\n",
    "@prefix SO: <http://schema.org/> .\n",
    "@prefix sh: <http://www.w3.org/ns/shacl#> .\n",
    "@prefix SOSO: <http://science-on-schema.org/examples/shacl/> .\n",
    "\n",
    "SOSO:incomplete-eg-01-Dataset\n",
    "    a sh:NodeShape ;\n",
    "    sh:targetClass SO:Dataset ;\n",
    "\n",
    "    sh:property [\n",
    "        sh:path SO:name ;\n",
    "        sh:minCount 1 ;\n",
    "        sh:message \"A dataset must have a name.\"@en ;\n",
    "    ] .\n",
    "\"\"\"\n",
    "sg = rdflib.ConjunctiveGraph()\n",
    "sg.parse(data=shacl_source, format=\"turtle\", publicID=\"https://science-on-schema.org/examples/shacl/\")"
   ]
  },
  {
   "cell_type": "code",
   "execution_count": 45,
   "metadata": {},
   "outputs": [
    {
     "data": {
      "text/plain": [
       "<Graph identifier=https://science-on-schema.org/examples/data/ (<class 'rdflib.graph.Graph'>)>"
      ]
     },
     "execution_count": 45,
     "metadata": {},
     "output_type": "execute_result"
    }
   ],
   "source": [
    "# Load the data graph\n",
    "dg_source = \"\"\"\n",
    "{\n",
    "    \"@context\":[\n",
    "      \"https://schema.org/docs/jsonldcontext.jsonld\",\n",
    "      {\n",
    "          \"SO\":\"http://schema.org/\"\n",
    "      }\n",
    "    ],\n",
    "    \"@id\":\"incomplete-eg-01\",\n",
    "    \"@type\":\"SO:Dataset\",    \n",
    "    \"SO:name\":\"Incomplete example 01\"\n",
    "}\n",
    "\"\"\"\n",
    "dg = rdflib.ConjunctiveGraph()\n",
    "dg.parse(data=dg_source, format=\"json-ld\", publicID=\"https://science-on-schema.org/examples/data/\")"
   ]
  },
  {
   "cell_type": "code",
   "execution_count": 46,
   "metadata": {},
   "outputs": [
    {
     "name": "stdout",
     "output_type": "stream",
     "text": [
      "Conforms\n",
      "--------\n",
      "True\n",
      "\n",
      "Report Text\n",
      "-----------\n",
      "Validation Report\n",
      "Conforms: True\n",
      "\n",
      "\n",
      "Report Graph\n",
      "------------\n",
      "@prefix sh: <http://www.w3.org/ns/shacl#> .\n",
      "@prefix xsd: <http://www.w3.org/2001/XMLSchema#> .\n",
      "\n",
      "[] a sh:ValidationReport ;\n",
      "    sh:conforms true ;\n",
      "    sh:failureCount 0 ;\n",
      "    sh:shapeCount 2 ;\n",
      "    sh:shapesApplied 2 .\n",
      "\n",
      "\n",
      "\n"
     ]
    }
   ],
   "source": [
    "def printValidationResults(conforms, report_graph, report_text):\n",
    "    def printMsg(msg, v):\n",
    "      print(f\"{msg}\\n{'-'*len(msg)}\\n{v}\\n\")\n",
    "    \n",
    "    printMsg(\"Conforms\", conforms)\n",
    "    printMsg(\"Report Text\", report_text)\n",
    "    printMsg(\"Report Graph\", report_graph.serialize(format=\"turtle\", indent=2).decode(\"utf8\"))\n",
    "\n",
    "#Validate and printout the results  \n",
    "conforms, report_graph, report_text = pyshacl.validate( dg, shacl_graph=sg)\n",
    "\n",
    "printValidationResults(conforms, report_graph, report_text)"
   ]
  },
  {
   "cell_type": "markdown",
   "metadata": {},
   "source": [
    "Change the data graph to be invalid by mis spelling the `name` property."
   ]
  },
  {
   "cell_type": "code",
   "execution_count": 47,
   "metadata": {},
   "outputs": [
    {
     "name": "stdout",
     "output_type": "stream",
     "text": [
      "Conforms\n",
      "--------\n",
      "False\n",
      "\n",
      "Report Text\n",
      "-----------\n",
      "Validation Report\n",
      "Conforms: False\n",
      "Results (1):\n",
      "Constraint Violation in MinCountConstraintComponent (http://www.w3.org/ns/shacl#MinCountConstraintComponent):\n",
      "\tSeverity: sh:Violation\n",
      "\tSource Shape: [ sh:message Literal(\"A dataset must have a name.\", lang=en) ; sh:minCount Literal(\"1\", datatype=xsd:integer) ; sh:path SO:name ]\n",
      "\tFocus Node: <https://science-on-schema.org/examples/data/incomplete-eg-02>\n",
      "\tResult Path: SO:name\n",
      "\tMessage: A dataset must have a name.\n",
      "\n",
      "\n",
      "Report Graph\n",
      "------------\n",
      "@prefix SO: <http://schema.org/> .\n",
      "@prefix sh: <http://www.w3.org/ns/shacl#> .\n",
      "@prefix xsd: <http://www.w3.org/2001/XMLSchema#> .\n",
      "\n",
      "[] a sh:ValidationReport ;\n",
      "    sh:conforms false ;\n",
      "    sh:failureCount 1 ;\n",
      "    sh:result [ a sh:ValidationResult ;\n",
      "            sh:focusNode <https://science-on-schema.org/examples/data/incomplete-eg-02> ;\n",
      "            sh:resultMessage \"A dataset must have a name.\"@en ;\n",
      "            sh:resultPath SO:name ;\n",
      "            sh:resultSeverity sh:Violation ;\n",
      "            sh:sourceConstraintComponent sh:MinCountConstraintComponent ;\n",
      "            sh:sourceShape [ sh:message \"A dataset must have a name.\"@en ;\n",
      "                    sh:minCount 1 ;\n",
      "                    sh:path SO:name ] ] ;\n",
      "    sh:shapeCount 2 ;\n",
      "    sh:shapesApplied 2 .\n",
      "\n",
      "\n",
      "\n"
     ]
    }
   ],
   "source": [
    "dg_source = \"\"\"\n",
    "{\n",
    "    \"@context\":[\n",
    "      \"https://schema.org/docs/jsonldcontext.jsonld\",\n",
    "      {\n",
    "          \"@vocab\":\"http://schema.org/\"\n",
    "      }\n",
    "    ],\n",
    "    \"@id\":\"incomplete-eg-02\",\n",
    "    \"@type\":\"Dataset\",    \n",
    "    \"SO:nameX\":\"Incomplete example 02, no name\"\n",
    "}\n",
    "\"\"\"\n",
    "\n",
    "dg = rdflib.ConjunctiveGraph()\n",
    "dg.parse(data=dg_source, format=\"json-ld\", publicID=\"https://science-on-schema.org/examples/data/\")\n",
    "\n",
    "conforms, report_graph, report_text = pyshacl.validate( dg, shacl_graph=sg)\n",
    "\n",
    "printValidationResults(conforms, report_graph, report_text)"
   ]
  },
  {
   "cell_type": "markdown",
   "metadata": {},
   "source": [
    "## Including ontology\n",
    "\n",
    "The schema.org class hierarchy is expressed in the document: \n",
    "\n",
    "  `https://schema.org/version/latest/schema.jsonld`\n",
    "  \n",
    "Assert that instances of `SO:CreativeWork` or its subclasses must have a `name` property:"
   ]
  },
  {
   "cell_type": "code",
   "execution_count": 22,
   "metadata": {},
   "outputs": [
    {
     "name": "stdout",
     "output_type": "stream",
     "text": [
      "Conforms\n",
      "--------\n",
      "True\n",
      "\n",
      "Report Text\n",
      "-----------\n",
      "Validation Report\n",
      "Conforms: True\n",
      "\n",
      "\n",
      "Report Graph\n",
      "------------\n",
      "@prefix sh: <http://www.w3.org/ns/shacl#> .\n",
      "@prefix xsd: <http://www.w3.org/2001/XMLSchema#> .\n",
      "\n",
      "[] a sh:ValidationReport ;\n",
      "    sh:conforms true ;\n",
      "    sh:failureCount 0 ;\n",
      "    sh:shapeCount 2 ;\n",
      "    sh:shapesApplied 2 .\n",
      "\n",
      "\n",
      "\n"
     ]
    }
   ],
   "source": [
    "shacl_source = \"\"\"\n",
    "@prefix SO: <http://schema.org/> .\n",
    "@prefix sh: <http://www.w3.org/ns/shacl#> .\n",
    "@prefix SOSO: <http://science-on-schema.org/examples/shacl/> .\n",
    "\n",
    "SOSO:incomplete-eg-02-CreativeWork\n",
    "    a sh:NodeShape ;\n",
    "    sh:targetClass SO:CreativeWork ;\n",
    "\n",
    "    sh:property [\n",
    "        sh:path SO:name ;\n",
    "        sh:minCount 1 ;\n",
    "        sh:message \"A CreativeWork must have a name.\"@en ;\n",
    "    ] .\n",
    "\"\"\"\n",
    "\n",
    "dg_source = \"\"\"\n",
    "{\n",
    "    \"@context\":[\n",
    "      \"https://schema.org/docs/jsonldcontext.jsonld\",\n",
    "      {\n",
    "          \"SO\":\"http://schema.org/\"\n",
    "      }\n",
    "    ],\n",
    "    \"@id\":\"incomplete-eg-01\",\n",
    "    \"@type\":\"SO:Dataset\",    \n",
    "    \"SO:name\":\"Incomplete example 01\"\n",
    "}\n",
    "\"\"\"\n",
    "# load the shapes graph\n",
    "sg = rdflib.ConjunctiveGraph()\n",
    "sg.parse(data=shacl_source, format=\"turtle\", publicID=\"https://science-on-schema.org/examples/shacl/\")\n",
    "\n",
    "# Load the data graph\n",
    "dg = rdflib.ConjunctiveGraph()\n",
    "dg.parse(data=dg_source, format=\"json-ld\", publicID=\"https://science-on-schema.org/examples/data/\")\n",
    "\n",
    "# Download and load the schema.org Ontology\n",
    "ont_source = \"https://schema.org/version/latest/schema.jsonld\"\n",
    "og = rdflib.ConjunctiveGraph()\n",
    "og.parse(ont_source, format=\"json-ld\")\n",
    "\n",
    "conforms, report_graph, report_text = pyshacl.validate( dg, shacl_graph=sg, ont_graph=og, inference=\"both\")\n",
    "\n",
    "printValidationResults(conforms, report_graph, report_text)"
   ]
  },
  {
   "cell_type": "code",
   "execution_count": null,
   "metadata": {},
   "outputs": [],
   "source": []
  }
 ],
 "metadata": {
  "kernelspec": {
   "display_name": "Python 3",
   "language": "python",
   "name": "python3"
  },
  "language_info": {
   "codemirror_mode": {
    "name": "ipython",
    "version": 3
   },
   "file_extension": ".py",
   "mimetype": "text/x-python",
   "name": "python",
   "nbconvert_exporter": "python",
   "pygments_lexer": "ipython3",
   "version": "3.7.6"
  }
 },
 "nbformat": 4,
 "nbformat_minor": 4
}
