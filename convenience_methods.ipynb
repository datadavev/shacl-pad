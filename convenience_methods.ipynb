{
 "cells": [
  {
   "cell_type": "markdown",
   "metadata": {},
   "source": [
    "# Utility and convenience methods\n",
    "\n",
    "## Imports"
   ]
  },
  {
   "cell_type": "code",
   "execution_count": 8,
   "metadata": {},
   "outputs": [],
   "source": [
    "import logging\n",
    "import rdflib\n",
    "import pyshacl\n",
    "import rdflib.tools.rdf2dot\n",
    "import graphviz\n",
    "import io\n",
    "import json\n",
    "\n",
    "logging.basicConfig(level=logging.INFO)"
   ]
  },
  {
   "cell_type": "markdown",
   "metadata": {},
   "source": [
    "## Load from text and files"
   ]
  },
  {
   "cell_type": "code",
   "execution_count": 9,
   "metadata": {},
   "outputs": [],
   "source": [
    "RDF_FORMATS = {\n",
    "    \"jsonld\": \"json-ld\",\n",
    "    \"json\":\"json-ld\",\n",
    "    \"json-ld\":\"json-ld\",\n",
    "    \"ttl\":\"turtle\",\n",
    "    \"turtle\":\"turtle\"\n",
    "}\n",
    "\n",
    "def guessFileFormat(fname):\n",
    "    parts = fname.rsplit(\".\", 1)\n",
    "    gformat = None\n",
    "    try:\n",
    "        ext = parts[1].lower()\n",
    "        gformat = RDF_FORMATS.get(ext, None)\n",
    "    except e as Exception:\n",
    "        logging.warning(e)\n",
    "    return gformat\n",
    "\n",
    "def guessSourceFormat(source):\n",
    "    src = source.strip()\n",
    "    try:\n",
    "        test = json.loads(source)\n",
    "        logging.debug(\"Guessed type as JSON-LD\")\n",
    "        return \"json-ld\"\n",
    "    except json.JSONDecodeError:\n",
    "        pass\n",
    "    if (src[-1] == \".\"):\n",
    "        logging.debug(\"Guessed type as Turtle\")\n",
    "        return \"turtle\"\n",
    "    return None\n",
    "\n",
    "def loadGraph(fname, gformat, publicID):\n",
    "    if gformat is None:\n",
    "        gformat = guessFileFormat(fname)\n",
    "    g = rdflib.ConjunctiveGraph()\n",
    "    return g.parse(fname, format=gformat, publicID=publicID)\n",
    "\n",
    "def loadShaclGraph(fname, format=None, publicID=\"https://science-on-schema.org/examples/shacl/\"):\n",
    "    return loadGraph(fname, format, publicID)\n",
    "\n",
    "def loadDataGraph(fname, format=None, publicID=\"https://science-on-schema.org/examples/data/\"):\n",
    "    return loadGraph(fname, format, publicID)\n",
    "\n",
    "def parseGraph(source, gformat, publicID):\n",
    "    if gformat is None:\n",
    "        gformat = guessSourceFormat(source)\n",
    "    g = rdflib.ConjunctiveGraph()\n",
    "    return g.parse(data=source, format=gformat, publicID=publicID)\n",
    "\n",
    "def parseShaclGraph(source, format=None, publicID=\"https://science-on-schema.org/examples/shacl/\"):\n",
    "    return parseGraph(source, format, publicID)\n",
    "\n",
    "def parseDataGraph(source, format=None, publicID=\"https://science-on-schema.org/examples/data/\"):\n",
    "    return parseGraph(source, format, publicID)\n",
    "\n",
    "def visualizeGraph(g):\n",
    "    fp = io.StringIO()\n",
    "    rdflib.tools.rdf2dot.rdf2dot(g, fp)\n",
    "    return graphviz.Source( fp.getvalue() )    "
   ]
  },
  {
   "cell_type": "markdown",
   "metadata": {},
   "source": [
    "# Validation"
   ]
  },
  {
   "cell_type": "code",
   "execution_count": 10,
   "metadata": {},
   "outputs": [],
   "source": [
    "def validate(data_graph, shacl_graph, ont_graph=None, advanced=True, inference=\"rdfs\"):\n",
    "    return pyshacl.validate(data_graph, shacl_graph=shacl_graph, ont_graph=ont_graph, advanced=advanced, inference=inference)\n",
    "\n",
    "def validateAndPrint(data_graph, shacl_graph, ont_graph=None, advanced=True, inference=\"rdfs\"):\n",
    "    def printMsg(msg, v):\n",
    "      print(f\"{msg}\\n{'-'*len(msg)}\\n{v}\\n\")\n",
    "    \n",
    "    # Apply the SHACL rules\n",
    "    conforms, report_graph, report_text = validate(data_graph, shacl_graph=shacl_graph, ont_graph=ont_graph, advanced=advanced, inference=inference)\n",
    "    printMsg(\"Conforms\", conforms)\n",
    "    printMsg(\"Report Text\", report_text)\n",
    "    printMsg(\"Report Graph\", report_graph.serialize(format=\"turtle\", indent=2).decode())\n",
    "    return conforms, report_graph, report_text\n",
    "    "
   ]
  },
  {
   "cell_type": "code",
   "execution_count": null,
   "metadata": {},
   "outputs": [],
   "source": []
  }
 ],
 "metadata": {
  "kernelspec": {
   "display_name": "Python 3",
   "language": "python",
   "name": "python3"
  },
  "language_info": {
   "codemirror_mode": {
    "name": "ipython",
    "version": 3
   },
   "file_extension": ".py",
   "mimetype": "text/x-python",
   "name": "python",
   "nbconvert_exporter": "python",
   "pygments_lexer": "ipython3",
   "version": "3.7.6"
  }
 },
 "nbformat": 4,
 "nbformat_minor": 4
}
