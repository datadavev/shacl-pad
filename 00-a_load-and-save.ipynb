{
 "cells": [
  {
   "cell_type": "markdown",
   "metadata": {
    "slideshow": {
     "slide_type": "slide"
    }
   },
   "source": [
    "# Loading JSON-LD and Turtle\n",
    "\n",
    "## Load from text\n",
    "\n",
    "### JSON-LD"
   ]
  },
  {
   "cell_type": "code",
   "execution_count": 6,
   "metadata": {},
   "outputs": [
    {
     "name": "stdout",
     "output_type": "stream",
     "text": [
      "[\n",
      "  {\n",
      "    \"@graph\": [\n",
      "      {\n",
      "        \"@id\": \"https://science-on-schema.org/examples/data/incomplete-eg-01\",\n",
      "        \"@type\": [\n",
      "          \"http://schema.org/Dataset\"\n",
      "        ],\n",
      "        \"http://schema.org/name\": [\n",
      "          {\n",
      "            \"@value\": \"Incomplete example 01\"\n",
      "          }\n",
      "        ]\n",
      "      }\n",
      "    ],\n",
      "    \"@id\": \"https://science-on-schema.org/examples/data/\"\n",
      "  }\n",
      "]\n"
     ]
    }
   ],
   "source": [
    "import rdflib\n",
    "\n",
    "jsonld = \"\"\"{\n",
    "    \"@context\":[\n",
    "      \"https://schema.org/docs/jsonldcontext.jsonld\",\n",
    "      {\n",
    "          \"@vocab\":\"http://schema.org/\"\n",
    "      }\n",
    "    ],\n",
    "    \"@id\":\"incomplete-eg-01\",\n",
    "    \"@type\":\"Dataset\",    \n",
    "    \"name\":\"Incomplete example 01\"\n",
    "}\n",
    "\"\"\"\n",
    "\n",
    "g = rdflib.ConjunctiveGraph()\n",
    "g.parse(\n",
    "    data=jsonld, \n",
    "    format=\"json-ld\", \n",
    "    publicID=\"https://science-on-schema.org/examples/data/\")\n",
    "\n",
    "print(g.serialize(format='json-ld', indent=2).decode())"
   ]
  },
  {
   "cell_type": "markdown",
   "metadata": {},
   "source": [
    "### Turtle"
   ]
  },
  {
   "cell_type": "code",
   "execution_count": 7,
   "metadata": {},
   "outputs": [
    {
     "name": "stdout",
     "output_type": "stream",
     "text": [
      "[\n",
      "  {\n",
      "    \"@graph\": [\n",
      "      {\n",
      "        \"@id\": \"http://science-on-schema.org/examples/shacl/incomplete-eg-01-Dataset\",\n",
      "        \"@type\": [\n",
      "          \"http://www.w3.org/ns/shacl#NodeShape\"\n",
      "        ],\n",
      "        \"http://www.w3.org/ns/shacl#property\": [\n",
      "          {\n",
      "            \"@id\": \"_:ub3bL13C17\"\n",
      "          }\n",
      "        ],\n",
      "        \"http://www.w3.org/ns/shacl#targetClass\": [\n",
      "          {\n",
      "            \"@id\": \"http://schema.org/Dataset\"\n",
      "          }\n",
      "        ]\n",
      "      },\n",
      "      {\n",
      "        \"@id\": \"_:ub3bL13C17\",\n",
      "        \"http://www.w3.org/ns/shacl#message\": [\n",
      "          {\n",
      "            \"@language\": \"en\",\n",
      "            \"@value\": \"A dataset must have a name.\"\n",
      "          }\n",
      "        ],\n",
      "        \"http://www.w3.org/ns/shacl#minCount\": [\n",
      "          {\n",
      "            \"@value\": 1\n",
      "          }\n",
      "        ],\n",
      "        \"http://www.w3.org/ns/shacl#path\": [\n",
      "          {\n",
      "            \"@id\": \"http://schema.org/name\"\n",
      "          }\n",
      "        ]\n",
      "      }\n",
      "    ],\n",
      "    \"@id\": \"https://science-on-schema.org/examples/shacl/\"\n",
      "  }\n",
      "]\n"
     ]
    }
   ],
   "source": [
    "import rdflib\n",
    "ttl = \"\"\"\n",
    "# Example: test for name in Dataset\n",
    "@prefix rdf: <http://www.w3.org/1999/02/22-rdf-syntax-ns#> .\n",
    "@prefix rdfs: <http://www.w3.org/2000/01/rdf-schema#> .\n",
    "@prefix SO: <http://schema.org/> .\n",
    "@prefix sh: <http://www.w3.org/ns/shacl#> .\n",
    "@prefix xsd: <http://www.w3.org/2001/XMLSchema#> .\n",
    "@prefix SOSO: <http://science-on-schema.org/examples/shacl/> .\n",
    "\n",
    "SOSO:incomplete-eg-01-Dataset\n",
    "    a sh:NodeShape ;\n",
    "    sh:targetClass SO:Dataset ;\n",
    "\n",
    "    sh:property [\n",
    "        sh:path SO:name ;\n",
    "        sh:minCount 1 ;\n",
    "        sh:message \"A dataset must have a name.\"@en ;\n",
    "    ] ;\n",
    ".\n",
    "\"\"\"\n",
    "g = rdflib.ConjunctiveGraph()\n",
    "g.parse(\n",
    "    data=ttl, \n",
    "    format=\"turtle\", \n",
    "    publicID=\"https://science-on-schema.org/examples/shacl/\")\n",
    "\n",
    "print(g.serialize(format=\"json-ld\", indent=2).decode())"
   ]
  },
  {
   "cell_type": "markdown",
   "metadata": {},
   "source": [
    "## From file\n",
    "\n",
    "### JSON-LD"
   ]
  },
  {
   "cell_type": "code",
   "execution_count": 8,
   "metadata": {},
   "outputs": [
    {
     "name": "stdout",
     "output_type": "stream",
     "text": [
      "[\n",
      "  {\n",
      "    \"@graph\": [\n",
      "      {\n",
      "        \"@id\": \"https://science-on-schema.org/examples/data/incomplete-eg-01\",\n",
      "        \"@type\": [\n",
      "          \"http://schema.org/Dataset\"\n",
      "        ],\n",
      "        \"http://schema.org/name\": [\n",
      "          {\n",
      "            \"@value\": \"Incomplete example 01\"\n",
      "          }\n",
      "        ]\n",
      "      }\n",
      "    ],\n",
      "    \"@id\": \"https://science-on-schema.org/examples/data/\"\n",
      "  }\n",
      "]\n"
     ]
    }
   ],
   "source": [
    "import rdflib\n",
    "\n",
    "g = rdflib.ConjunctiveGraph()\n",
    "g.parse(\n",
    "    \"data/incomplete-eg-01.jsonld\", \n",
    "    format=\"json-ld\", \n",
    "    publicID=\"https://science-on-schema.org/examples/data/\")\n",
    "\n",
    "print(g.serialize(format='json-ld', indent=2).decode())"
   ]
  },
  {
   "cell_type": "markdown",
   "metadata": {},
   "source": [
    "### Turtle"
   ]
  },
  {
   "cell_type": "code",
   "execution_count": 9,
   "metadata": {},
   "outputs": [
    {
     "name": "stdout",
     "output_type": "stream",
     "text": [
      "[\n",
      "  {\n",
      "    \"@graph\": [\n",
      "      {\n",
      "        \"@id\": \"http://science-on-schema.org/examples/shacl/incomplete-eg-01-Dataset\",\n",
      "        \"@type\": [\n",
      "          \"http://www.w3.org/ns/shacl#NodeShape\"\n",
      "        ],\n",
      "        \"http://www.w3.org/ns/shacl#property\": [\n",
      "          {\n",
      "            \"@id\": \"_:ub4bL12C17\"\n",
      "          }\n",
      "        ],\n",
      "        \"http://www.w3.org/ns/shacl#targetClass\": [\n",
      "          {\n",
      "            \"@id\": \"http://schema.org/Dataset\"\n",
      "          }\n",
      "        ]\n",
      "      },\n",
      "      {\n",
      "        \"@id\": \"_:ub4bL12C17\",\n",
      "        \"http://www.w3.org/ns/shacl#message\": [\n",
      "          {\n",
      "            \"@language\": \"en\",\n",
      "            \"@value\": \"A dataset must have a name.\"\n",
      "          }\n",
      "        ],\n",
      "        \"http://www.w3.org/ns/shacl#minCount\": [\n",
      "          {\n",
      "            \"@value\": 1\n",
      "          }\n",
      "        ],\n",
      "        \"http://www.w3.org/ns/shacl#path\": [\n",
      "          {\n",
      "            \"@id\": \"http://schema.org/name\"\n",
      "          }\n",
      "        ]\n",
      "      }\n",
      "    ],\n",
      "    \"@id\": \"https://science-on-schema.org/examples/shacl/\"\n",
      "  }\n",
      "]\n"
     ]
    }
   ],
   "source": [
    "import rdflib\n",
    "\n",
    "g = rdflib.ConjunctiveGraph()\n",
    "g.parse(\n",
    "    \"shacl/incomplete-eg-01-Dataset.ttl\", \n",
    "    format=\"turtle\", \n",
    "    publicID=\"https://science-on-schema.org/examples/shacl/\")\n",
    "\n",
    "print(g.serialize(format=\"json-ld\", indent=2).decode())"
   ]
  },
  {
   "cell_type": "code",
   "execution_count": null,
   "metadata": {},
   "outputs": [],
   "source": []
  }
 ],
 "metadata": {
  "kernelspec": {
   "display_name": "Python 3",
   "language": "python",
   "name": "python3"
  },
  "language_info": {
   "codemirror_mode": {
    "name": "ipython",
    "version": 3
   },
   "file_extension": ".py",
   "mimetype": "text/x-python",
   "name": "python",
   "nbconvert_exporter": "python",
   "pygments_lexer": "ipython3",
   "version": "3.7.6"
  }
 },
 "nbformat": 4,
 "nbformat_minor": 4
}
